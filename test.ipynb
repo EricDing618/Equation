{
 "cells": [
  {
   "cell_type": "code",
   "execution_count": 3,
   "metadata": {},
   "outputs": [
    {
     "name": "stdout",
     "output_type": "stream",
     "text": [
      "True\n",
      "True\n",
      "False\n",
      "False\n"
     ]
    }
   ],
   "source": [
    "from equation import OneOne\n",
    "\n",
    "a=OneOne()\n",
    "\n",
    "a.give('ax+1')\n",
    "print(a.syntax_error())\n",
    "\n",
    "a.give('ax+1=b')\n",
    "print(a.syntax_error())\n",
    "\n",
    "a.give('ax+1=b',ignore=('a','b'))\n",
    "print(a.syntax_error())\n",
    "\n",
    "a.give('x+2=1')\n",
    "print(a.syntax_error())"
   ]
  },
  {
   "cell_type": "markdown",
   "metadata": {},
   "source": [
    "v0.1，可判断方程是否有误。"
   ]
  },
  {
   "cell_type": "code",
   "execution_count": 2,
   "metadata": {},
   "outputs": [
    {
     "ename": "SyntaxError",
     "evalue": "Invalid input data. (<string>)",
     "output_type": "error",
     "traceback": [
      "Traceback \u001b[1;36m(most recent call last)\u001b[0m:\n",
      "\u001b[0m  File \u001b[0;32m~\\AppData\\Roaming\\Python\\Python311\\site-packages\\IPython\\core\\interactiveshell.py:3577\u001b[0m in \u001b[0;35mrun_code\u001b[0m\n    exec(code_obj, self.user_global_ns, self.user_ns)\u001b[0m\n",
      "\u001b[0m  Cell \u001b[0;32mIn[2], line 4\u001b[0m\n    a.get()\u001b[0m\n",
      "\u001b[1;36m  File \u001b[1;32md:\\gitclone\\Equation\\equation.py:74\u001b[1;36m in \u001b[1;35mget\u001b[1;36m\n\u001b[1;33m    raise SyntaxError(\"Invalid input data.\")\u001b[1;36m\n",
      "\u001b[1;36m  File \u001b[1;32m<string>\u001b[1;36m\u001b[0m\n\u001b[1;31mSyntaxError\u001b[0m\u001b[1;31m:\u001b[0m Invalid input data.\n"
     ]
    }
   ],
   "source": [
    "from equation import OneOne\n",
    "a=OneOne()\n",
    "a.give('ax=1')\n",
    "a.get()"
   ]
  },
  {
   "cell_type": "markdown",
   "metadata": {},
   "source": [
    "这将返回一个错误，因为你的数据有问题，应当使用`ignore=(\"a\")`忽略系数`a`。"
   ]
  },
  {
   "cell_type": "code",
   "execution_count": 1,
   "metadata": {},
   "outputs": [],
   "source": [
    "from equation import OneOne\n",
    "a=OneOne()\n",
    "a.give('ax=1',ignore=(\"a\"))\n",
    "a.get()"
   ]
  },
  {
   "cell_type": "markdown",
   "metadata": {},
   "source": [
    "这才是正确的写法。"
   ]
  }
 ],
 "metadata": {
  "kernelspec": {
   "display_name": "Python 3",
   "language": "python",
   "name": "python3"
  },
  "language_info": {
   "codemirror_mode": {
    "name": "ipython",
    "version": 3
   },
   "file_extension": ".py",
   "mimetype": "text/x-python",
   "name": "python",
   "nbconvert_exporter": "python",
   "pygments_lexer": "ipython3",
   "version": "3.11.0"
  }
 },
 "nbformat": 4,
 "nbformat_minor": 2
}
