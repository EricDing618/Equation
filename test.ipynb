{
 "cells": [
  {
   "cell_type": "code",
   "execution_count": 1,
   "metadata": {},
   "outputs": [
    {
     "name": "stdout",
     "output_type": "stream",
     "text": [
      "OneOne\n",
      "True\n",
      "True\n",
      "False\n",
      "False\n"
     ]
    }
   ],
   "source": [
    "from equation import OneOne\n",
    "\n",
    "print(OneOne().type_())\n",
    "\n",
    "a=OneOne()\n",
    "\n",
    "a.give('ax+1')\n",
    "print(a.syntax_error())\n",
    "\n",
    "a.give('ax+1=b')\n",
    "print(a.syntax_error())\n",
    "\n",
    "a.give('ax+1=b',ignore=('a','b'))\n",
    "print(a.syntax_error())\n",
    "\n",
    "a.give('x+2=1')\n",
    "print(a.syntax_error())"
   ]
  },
  {
   "cell_type": "markdown",
   "metadata": {},
   "source": [
    "v0.1，可判断方程是否有误。"
   ]
  },
  {
   "cell_type": "code",
   "execution_count": null,
   "metadata": {},
   "outputs": [],
   "source": []
  }
 ],
 "metadata": {
  "kernelspec": {
   "display_name": "Python 3",
   "language": "python",
   "name": "python3"
  },
  "language_info": {
   "codemirror_mode": {
    "name": "ipython",
    "version": 3
   },
   "file_extension": ".py",
   "mimetype": "text/x-python",
   "name": "python",
   "nbconvert_exporter": "python",
   "pygments_lexer": "ipython3",
   "version": "3.11.0"
  }
 },
 "nbformat": 4,
 "nbformat_minor": 2
}
