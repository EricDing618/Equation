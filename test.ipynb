{
 "cells": [
  {
   "cell_type": "code",
   "execution_count": null,
   "metadata": {},
   "outputs": [],
   "source": [
    "from equation import OneOne\n",
    "print(OneOne().type_())\n",
    "a=OneOne()\n",
    "a.give('ax+1')\n",
    "print(a.syntax_error())\n",
    "a.give('ax+1=b',ignore=('a','b'))\n",
    "print(a.syntax_error())\n",
    "a.give('x+2=1')\n",
    "print(a.syntax_error())"
   ]
  },
  {
   "cell_type": "markdown",
   "metadata": {},
   "source": [
    "运行**demo**。"
   ]
  },
  {
   "cell_type": "code",
   "execution_count": null,
   "metadata": {},
   "outputs": [],
   "source": []
  }
 ],
 "metadata": {
  "kernelspec": {
   "display_name": "Python 3",
   "language": "python",
   "name": "python3"
  },
  "language_info": {
   "name": "python",
   "version": "3.11.0"
  }
 },
 "nbformat": 4,
 "nbformat_minor": 2
}
